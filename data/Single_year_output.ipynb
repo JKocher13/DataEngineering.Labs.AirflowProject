{
 "cells": [
  {
   "cell_type": "code",
   "execution_count": 1,
   "metadata": {
    "execution": {
     "iopub.execute_input": "2020-04-10T12:43:28.282968Z",
     "iopub.status.busy": "2020-04-10T12:43:28.281255Z",
     "iopub.status.idle": "2020-04-10T12:43:28.284479Z",
     "shell.execute_reply": "2020-04-10T12:43:28.285389Z"
    },
    "papermill": {
     "duration": 0.022493,
     "end_time": "2020-04-10T12:43:28.285748",
     "exception": false,
     "start_time": "2020-04-10T12:43:28.263255",
     "status": "completed"
    },
    "tags": [
     "parameters"
    ]
   },
   "outputs": [],
   "source": [
    "file_path =\"\"\n",
    "year_name =\"\""
   ]
  },
  {
   "cell_type": "code",
   "execution_count": 2,
   "metadata": {
    "execution": {
     "iopub.execute_input": "2020-04-10T12:43:28.316025Z",
     "iopub.status.busy": "2020-04-10T12:43:28.313682Z",
     "iopub.status.idle": "2020-04-10T12:43:28.318664Z",
     "shell.execute_reply": "2020-04-10T12:43:28.319719Z"
    },
    "papermill": {
     "duration": 0.023917,
     "end_time": "2020-04-10T12:43:28.320295",
     "exception": false,
     "start_time": "2020-04-10T12:43:28.296378",
     "status": "completed"
    },
    "tags": [
     "injected-parameters"
    ]
   },
   "outputs": [],
   "source": [
    "# Parameters\n",
    "file_path = \"/Users/jkocher/Documents/airflow_home/data/blillboard_spotify_1990s.pickle\"\n",
    "year_name = \"1990s\"\n"
   ]
  },
  {
   "cell_type": "code",
   "execution_count": 3,
   "metadata": {
    "execution": {
     "iopub.execute_input": "2020-04-10T12:43:28.375712Z",
     "iopub.status.busy": "2020-04-10T12:43:28.373718Z",
     "iopub.status.idle": "2020-04-10T12:43:30.690716Z",
     "shell.execute_reply": "2020-04-10T12:43:30.691668Z"
    },
    "papermill": {
     "duration": 2.360891,
     "end_time": "2020-04-10T12:43:30.691884",
     "exception": false,
     "start_time": "2020-04-10T12:43:28.330993",
     "status": "completed"
    },
    "tags": []
   },
   "outputs": [],
   "source": [
    "import pdfkit\n",
    "import pandas as pd\n",
    "import pickle\n",
    "import matplotlib.pyplot as plt\n",
    "import pandas as pd\n",
    "%matplotlib inline\n",
    "from matplotlib.backends.backend_pdf import PdfPages\n",
    "import os"
   ]
  },
  {
   "cell_type": "code",
   "execution_count": 4,
   "metadata": {
    "execution": {
     "iopub.execute_input": "2020-04-10T12:43:30.723669Z",
     "iopub.status.busy": "2020-04-10T12:43:30.720783Z",
     "iopub.status.idle": "2020-04-10T12:43:30.736379Z",
     "shell.execute_reply": "2020-04-10T12:43:30.737153Z"
    },
    "papermill": {
     "duration": 0.035383,
     "end_time": "2020-04-10T12:43:30.737459",
     "exception": false,
     "start_time": "2020-04-10T12:43:30.702076",
     "status": "completed"
    },
    "tags": []
   },
   "outputs": [],
   "source": [
    "merged_db = pd.read_pickle(file_path)\n",
    "\n",
    "if os.path.isdir(\"/Users/jkocher/Documents/airflow_home/data/\" + str(year_name)) == False:\n",
    "    os.mkdir(\"/Users/jkocher/Documents/airflow_home/data/\" + str(year_name))\n",
    "else:\n",
    "    pass"
   ]
  },
  {
   "cell_type": "code",
   "execution_count": 5,
   "metadata": {
    "execution": {
     "iopub.execute_input": "2020-04-10T12:43:30.767550Z",
     "iopub.status.busy": "2020-04-10T12:43:30.765849Z",
     "iopub.status.idle": "2020-04-10T12:43:30.969920Z",
     "shell.execute_reply": "2020-04-10T12:43:30.971129Z"
    },
    "papermill": {
     "duration": 0.224211,
     "end_time": "2020-04-10T12:43:30.971774",
     "exception": false,
     "start_time": "2020-04-10T12:43:30.747563",
     "status": "completed"
    },
    "tags": []
   },
   "outputs": [],
   "source": [
    "genre_list = []\n",
    "sub_genre_lst = []\n",
    "\n",
    "for genre in merged_db[\"spotify_genre\"]:\n",
    "    if type(genre) == str and genre != \"[]\":\n",
    "        genre = genre.replace(\"[\", \"\")\n",
    "        genre = genre.replace(\"]\", \"\")\n",
    "        genre = genre.replace(\"'\", \"\")\n",
    "        x = genre.split(\",\")\n",
    "        genre_list.append(x)\n",
    "        \n",
    "for genre in genre_list:\n",
    "    for sub_genre in genre:\n",
    "        sub_genre_lst.append(sub_genre)\n",
    "        \n",
    "genre_pd = pd.DataFrame(sub_genre_lst)\n",
    "genre_pd = genre_pd.rename(columns={0: \"genre\"})\n",
    "genre_pd = genre_pd['genre'].str.lstrip(\" \")\n",
    "\n",
    "genre_count=genre_pd.value_counts()\n",
    "genre_count = genre_count.head()\n",
    "genre_count = pd.DataFrame(genre_count)"
   ]
  },
  {
   "cell_type": "code",
   "execution_count": 6,
   "metadata": {
    "execution": {
     "iopub.execute_input": "2020-04-10T12:43:30.999700Z",
     "iopub.status.busy": "2020-04-10T12:43:30.997847Z",
     "iopub.status.idle": "2020-04-10T12:43:32.660607Z",
     "shell.execute_reply": "2020-04-10T12:43:32.661318Z"
    },
    "papermill": {
     "duration": 1.679602,
     "end_time": "2020-04-10T12:43:32.661556",
     "exception": false,
     "start_time": "2020-04-10T12:43:30.981954",
     "status": "completed"
    },
    "tags": []
   },
   "outputs": [
    {
     "name": "stdout",
     "output_type": "stream",
     "text": [
      "Loading pages (1/6)\n",
      "[>                                                           ] 0%\r",
      "[======>                                                     ] 10%\r",
      "[==============================>                             ] 50%\r",
      "[============================================================] 100%\r",
      "Counting pages (2/6)                                               \n",
      "[============================================================] Object 1 of 1\r",
      "Resolving links (4/6)                                                       \n",
      "[============================================================] Object 1 of 1\r",
      "Loading headers and footers (5/6)                                           \n",
      "Printing pages (6/6)\n",
      "[>                                                           ] Preparing\r",
      "[============================================================] Page 1 of 1\r",
      "Done                                                                      \n"
     ]
    },
    {
     "data": {
      "text/plain": [
       "True"
      ]
     },
     "execution_count": 6,
     "metadata": {},
     "output_type": "execute_result"
    }
   ],
   "source": [
    "genre_count.to_html('/Users/jkocher/Documents/airflow_home/data/'+ year_name + '/genre.html')\n",
    "pdfkit.from_file(('/Users/jkocher/Documents/airflow_home/data/'+ year_name + '/genre.html'), (\"/Users/jkocher/Documents/airflow_home/data/\" + year_name +\"/genre.pdf\"))\n",
    "\n",
    "\n",
    "\n",
    "\n"
   ]
  },
  {
   "cell_type": "code",
   "execution_count": 7,
   "metadata": {
    "execution": {
     "iopub.execute_input": "2020-04-10T12:43:32.697288Z",
     "iopub.status.busy": "2020-04-10T12:43:32.695487Z",
     "iopub.status.idle": "2020-04-10T12:43:35.583500Z",
     "shell.execute_reply": "2020-04-10T12:43:35.594487Z"
    },
    "papermill": {
     "duration": 2.921395,
     "end_time": "2020-04-10T12:43:35.594730",
     "exception": false,
     "start_time": "2020-04-10T12:43:32.673335",
     "status": "completed"
    },
    "tags": []
   },
   "outputs": [],
   "source": [
    "with PdfPages(\"/Users/jkocher/Documents/airflow_home/data/\"+year_name+\"/graphs.pdf\") as pdf:\n",
    "    merged_db.hist(column = \"spotify_track_duration_ms\" )\n",
    "    pdf.savefig()\n",
    "    plt.close()\n",
    "    \n",
    "    \n",
    "    merged_db.hist(column = \"loudness\")\n",
    "    pdf.savefig()\n",
    "    plt.close()\n",
    "    \n",
    "    merged_db.hist(column = \"danceability\")\n",
    "    pdf.savefig()\n",
    "    plt.close()\n",
    "    \n",
    "    merged_db.hist(column = \"energy\")\n",
    "    pdf.savefig()\n",
    "    plt.close()\n",
    "    \n",
    "    merged_db.hist(column = \"key\", bins = 12,ec='black')\n",
    "    pdf.savefig()\n",
    "    plt.close()\n",
    "    \n",
    "    merged_db.hist(column = \"acousticness\")\n",
    "    pdf.savefig()\n",
    "    plt.close()\n",
    "    \n",
    "    merged_db.hist(column = \"valence\")\n",
    "    pdf.savefig()\n",
    "    plt.close()\n",
    "    \n",
    "    merged_db.hist(column = \"tempo\")\n",
    "    pdf.savefig()\n",
    "    plt.close()"
   ]
  },
  {
   "cell_type": "code",
   "execution_count": 8,
   "metadata": {
    "execution": {
     "iopub.execute_input": "2020-04-10T12:43:35.635937Z",
     "iopub.status.busy": "2020-04-10T12:43:35.624852Z",
     "iopub.status.idle": "2020-04-10T12:43:37.609483Z",
     "shell.execute_reply": "2020-04-10T12:43:37.610163Z"
    },
    "papermill": {
     "duration": 2.003409,
     "end_time": "2020-04-10T12:43:37.610408",
     "exception": false,
     "start_time": "2020-04-10T12:43:35.606999",
     "status": "completed"
    },
    "tags": []
   },
   "outputs": [
    {
     "name": "stdout",
     "output_type": "stream",
     "text": [
      "Loading pages (1/6)\n",
      "[>                                                           ] 0%\r",
      "[======>                                                     ] 10%\r",
      "[==============================>                             ] 50%\r",
      "[============================================================] 100%\r",
      "Counting pages (2/6)                                               \n",
      "[============================================================] Object 1 of 1\r",
      "Resolving links (4/6)                                                       \n",
      "[============================================================] Object 1 of 1\r",
      "Loading headers and footers (5/6)                                           \n",
      "Printing pages (6/6)\n",
      "[>                                                           ] Preparing\r",
      "[============================================================] Page 1 of 1\r",
      "Done                                                                      \n"
     ]
    },
    {
     "data": {
      "text/plain": [
       "True"
      ]
     },
     "execution_count": 8,
     "metadata": {},
     "output_type": "execute_result"
    }
   ],
   "source": [
    "merged_db.describe()\n",
    "options = {\n",
    "    \"orientation\" : \"Landscape\"\n",
    "}\n",
    "merged_db.describe().to_html('/Users/jkocher/Documents/airflow_home/data/'+ year_name + '/variable.html')\n",
    "pdfkit.from_file(('/Users/jkocher/Documents/airflow_home/data/'+ year_name + '/variable.html'),(\"/Users/jkocher/Documents/airflow_home/data/\" + year_name +\"/variables.pdf\"),options)\n",
    "\n",
    "\n"
   ]
  },
  {
   "cell_type": "code",
   "execution_count": 9,
   "metadata": {
    "execution": {
     "iopub.execute_input": "2020-04-10T12:43:37.653621Z",
     "iopub.status.busy": "2020-04-10T12:43:37.652668Z",
     "iopub.status.idle": "2020-04-10T12:43:37.664434Z",
     "shell.execute_reply": "2020-04-10T12:43:37.665029Z"
    },
    "papermill": {
     "duration": 0.042651,
     "end_time": "2020-04-10T12:43:37.665265",
     "exception": false,
     "start_time": "2020-04-10T12:43:37.622614",
     "status": "completed"
    },
    "tags": []
   },
   "outputs": [],
   "source": [
    "duration_lower = merged_db[\"spotify_track_duration_ms\"].mean()-merged_db[\"spotify_track_duration_ms\"].std()*.75\n",
    "duration_upper = merged_db[\"spotify_track_duration_ms\"].mean()+merged_db[\"spotify_track_duration_ms\"].std()*.75\n",
    "loudness_lower = merged_db[\"loudness\"].mean()-merged_db[\"loudness\"].std()*.75\n",
    "loudness_upper = merged_db[\"loudness\"].mean()+merged_db[\"loudness\"].std()*.75\n",
    "danceability_lower = merged_db[\"danceability\"].mean()-merged_db[\"danceability\"].std()*.75\n",
    "danceability_upper = merged_db[\"danceability\"].mean()+merged_db[\"danceability\"].std()*.75\n",
    "energy_lower = merged_db[\"energy\"].mean()-merged_db[\"energy\"].std()*.75\n",
    "energy_upper = merged_db[\"energy\"].mean()+merged_db[\"energy\"].std()*.75\n",
    "acousticness_lower = merged_db[\"acousticness\"].mean()-merged_db[\"acousticness\"].std()*.75\n",
    "acousticness_upper = merged_db[\"acousticness\"].mean()+merged_db[\"acousticness\"].std()*.75\n",
    "valence_lower = merged_db[\"valence\"].mean()-merged_db[\"valence\"].std()*.75\n",
    "valence_upper = merged_db[\"valence\"].mean()+merged_db[\"valence\"].std()*.75\n",
    "tempo_lower = merged_db[\"tempo\"].mean()-merged_db[\"tempo\"].std()*.75\n",
    "tempo_upper = merged_db[\"tempo\"].mean()+merged_db[\"tempo\"].std()*.75\n",
    "top_5_keys = merged_db['key'].value_counts().head(5)\n",
    "top_5_keys_list = list(top_5_keys.index)"
   ]
  },
  {
   "cell_type": "code",
   "execution_count": 10,
   "metadata": {
    "execution": {
     "iopub.execute_input": "2020-04-10T12:43:37.702388Z",
     "iopub.status.busy": "2020-04-10T12:43:37.699414Z",
     "iopub.status.idle": "2020-04-10T12:43:37.724097Z",
     "shell.execute_reply": "2020-04-10T12:43:37.725270Z"
    },
    "papermill": {
     "duration": 0.04906,
     "end_time": "2020-04-10T12:43:37.725775",
     "exception": false,
     "start_time": "2020-04-10T12:43:37.676715",
     "status": "completed"
    },
    "tags": []
   },
   "outputs": [],
   "source": [
    "top_songs = merged_db[merged_db[\"key\"].isin(top_5_keys_list)]\n",
    "top_songs = top_songs[top_songs[\"week_position\"] <= 3]\n",
    "top_songs = top_songs[top_songs[\"spotify_track_duration_ms\"] > duration_lower]\n",
    "top_songs = top_songs[top_songs[\"spotify_track_duration_ms\"] < duration_upper]\n",
    "top_songs = top_songs[top_songs[\"loudness\"] > loudness_lower]\n",
    "top_songs = top_songs[top_songs[\"loudness\"] < loudness_upper]\n",
    "top_songs = top_songs[top_songs[\"danceability\"] > danceability_lower]\n",
    "top_songs = top_songs[top_songs[\"danceability\"] < danceability_upper]\n",
    "top_songs = top_songs[top_songs[\"energy\"] > energy_lower]\n",
    "top_songs = top_songs[top_songs[\"energy\"] < energy_upper]\n",
    "top_songs = top_songs[top_songs[\"acousticness\"] > acousticness_lower]\n",
    "top_songs = top_songs[top_songs[\"acousticness\"] < acousticness_upper]\n",
    "top_songs = top_songs[top_songs[\"valence\"] > valence_lower]\n",
    "top_songs = top_songs[top_songs[\"valence\"] < valence_upper]\n",
    "top_songs = top_songs[top_songs[\"tempo\"] > tempo_lower]\n",
    "top_songs = top_songs[top_songs[\"tempo\"] < tempo_upper]\n",
    "top_songs = top_songs[['song', 'performer','week_position']]"
   ]
  },
  {
   "cell_type": "code",
   "execution_count": 11,
   "metadata": {
    "execution": {
     "iopub.execute_input": "2020-04-10T12:43:37.764737Z",
     "iopub.status.busy": "2020-04-10T12:43:37.763589Z",
     "iopub.status.idle": "2020-04-10T12:43:38.909536Z",
     "shell.execute_reply": "2020-04-10T12:43:38.910251Z"
    },
    "papermill": {
     "duration": 1.167959,
     "end_time": "2020-04-10T12:43:38.910499",
     "exception": false,
     "start_time": "2020-04-10T12:43:37.742540",
     "status": "completed"
    },
    "tags": []
   },
   "outputs": [
    {
     "name": "stdout",
     "output_type": "stream",
     "text": [
      "Loading pages (1/6)\n",
      "[>                                                           ] 0%\r",
      "[======>                                                     ] 10%\r",
      "[==============================>                             ] 50%\r",
      "[============================================================] 100%\r",
      "Counting pages (2/6)                                               \n",
      "[============================================================] Object 1 of 1\r",
      "Resolving links (4/6)                                                       \n",
      "[============================================================] Object 1 of 1\r",
      "Loading headers and footers (5/6)                                           \n",
      "Printing pages (6/6)\n",
      "[>                                                           ] Preparing\r",
      "[============================================================] Page 1 of 1\r",
      "Done                                                                      \n"
     ]
    },
    {
     "data": {
      "text/plain": [
       "True"
      ]
     },
     "execution_count": 11,
     "metadata": {},
     "output_type": "execute_result"
    }
   ],
   "source": [
    "options = {\n",
    "    \"orientation\" : \"Landscape\"\n",
    "}\n",
    "top_songs.to_html('/Users/jkocher/Documents/airflow_home/data/'+ year_name + '/top_songs.html')\n",
    "pdfkit.from_file(('/Users/jkocher/Documents/airflow_home/data/'+ year_name + '/top_songs.html'),(\"/Users/jkocher/Documents/airflow_home/data/\" + year_name +\"/top_songs.pdf\"),options)\n",
    "\n",
    "\n",
    "\n",
    "\n",
    "\n",
    "\n",
    "\n"
   ]
  },
  {
   "cell_type": "code",
   "execution_count": 12,
   "metadata": {
    "execution": {
     "iopub.execute_input": "2020-04-10T12:43:38.942332Z",
     "iopub.status.busy": "2020-04-10T12:43:38.941423Z",
     "iopub.status.idle": "2020-04-10T12:43:38.944475Z",
     "shell.execute_reply": "2020-04-10T12:43:38.945207Z"
    },
    "papermill": {
     "duration": 0.022174,
     "end_time": "2020-04-10T12:43:38.945437",
     "exception": false,
     "start_time": "2020-04-10T12:43:38.923263",
     "status": "completed"
    },
    "tags": []
   },
   "outputs": [],
   "source": [
    "os.remove('/Users/jkocher/Documents/airflow_home/data/'+ year_name + '/genre.html')\n",
    "os.remove('/Users/jkocher/Documents/airflow_home/data/'+ year_name + '/variable.html')\n",
    "os.remove('/Users/jkocher/Documents/airflow_home/data/'+ year_name + '/top_songs.html')"
   ]
  }
 ],
 "metadata": {
  "celltoolbar": "Tags",
  "kernelspec": {
   "display_name": "Python 3",
   "language": "python",
   "name": "python3"
  },
  "language_info": {
   "codemirror_mode": {
    "name": "ipython",
    "version": 3
   },
   "file_extension": ".py",
   "mimetype": "text/x-python",
   "name": "python",
   "nbconvert_exporter": "python",
   "pygments_lexer": "ipython3",
   "version": "3.7.7"
  },
  "papermill": {
   "duration": 13.652856,
   "end_time": "2020-04-10T12:43:39.064122",
   "environment_variables": {},
   "exception": null,
   "input_path": "/Users/jkocher/Documents/airflow_home/data/Single_year.ipynb",
   "output_path": "/Users/jkocher/Documents/airflow_home/data/Single_year_output.ipynb",
   "parameters": {
    "file_path": "/Users/jkocher/Documents/airflow_home/data/blillboard_spotify_1990s.pickle",
    "year_name": "1990s"
   },
   "start_time": "2020-04-10T12:43:25.411266",
   "version": "2.1.0"
  }
 },
 "nbformat": 4,
 "nbformat_minor": 2
}