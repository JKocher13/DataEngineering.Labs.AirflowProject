{
 "cells": [
  {
   "cell_type": "code",
   "execution_count": null,
   "metadata": {
    "tags": [
     "parameters"
    ]
   },
   "outputs": [],
   "source": [
    "file_path =\"\"\n",
    "year_name =\"\""
   ]
  },
  {
   "cell_type": "code",
   "execution_count": null,
   "metadata": {},
   "outputs": [],
   "source": [
    "import pdfkit\n",
    "import pandas as pd\n",
    "import pickle\n",
    "import matplotlib.pyplot as plt\n",
    "import pandas as pd\n",
    "%matplotlib inline\n",
    "from matplotlib.backends.backend_pdf import PdfPages\n",
    "import os"
   ]
  },
  {
   "cell_type": "code",
   "execution_count": null,
   "metadata": {},
   "outputs": [],
   "source": [
    "merged_db = pd.read_pickle(file_path)\n",
    "\n",
    "if os.path.isdir(\"/Users/jkocher/Documents/airflow_home/data/\" + str(year_name)) == False:\n",
    "    os.mkdir(\"/Users/jkocher/Documents/airflow_home/data/\" + str(year_name))\n",
    "else:\n",
    "    pass"
   ]
  },
  {
   "cell_type": "code",
   "execution_count": null,
   "metadata": {},
   "outputs": [],
   "source": [
    "genre_list = []\n",
    "sub_genre_lst = []\n",
    "\n",
    "for genre in merged_db[\"spotify_genre\"]:\n",
    "    if type(genre) == str and genre != \"[]\":\n",
    "        genre = genre.replace(\"[\", \"\")\n",
    "        genre = genre.replace(\"]\", \"\")\n",
    "        genre = genre.replace(\"'\", \"\")\n",
    "        x = genre.split(\",\")\n",
    "        genre_list.append(x)\n",
    "        \n",
    "for genre in genre_list:\n",
    "    for sub_genre in genre:\n",
    "        sub_genre_lst.append(sub_genre)\n",
    "        \n",
    "genre_pd = pd.DataFrame(sub_genre_lst)\n",
    "genre_pd = genre_pd.rename(columns={0: \"genre\"})\n",
    "genre_pd = genre_pd['genre'].str.lstrip(\" \")\n",
    "\n",
    "genre_count=genre_pd.value_counts()\n",
    "genre_count = genre_count.head()\n",
    "genre_count = pd.DataFrame(genre_count)"
   ]
  },
  {
   "cell_type": "code",
   "execution_count": 2,
   "metadata": {},
   "outputs": [
    {
     "ename": "NameError",
     "evalue": "name 'genre_count' is not defined",
     "output_type": "error",
     "traceback": [
      "\u001b[0;31m---------------------------------------------------------------------------\u001b[0m",
      "\u001b[0;31mNameError\u001b[0m                                 Traceback (most recent call last)",
      "\u001b[0;32m<ipython-input-2-a05d4ee99dd1>\u001b[0m in \u001b[0;36m<module>\u001b[0;34m\u001b[0m\n\u001b[0;32m----> 1\u001b[0;31m \u001b[0mgenre_count\u001b[0m\u001b[0;34m.\u001b[0m\u001b[0mto_html\u001b[0m\u001b[0;34m(\u001b[0m\u001b[0;34m'/Users/jkocher/Documents/projects/DataEngineering.Labs.AirflowProject/data/genre_'\u001b[0m\u001b[0;34m+\u001b[0m \u001b[0myear_name\u001b[0m \u001b[0;34m+\u001b[0m \u001b[0;34m'.html'\u001b[0m\u001b[0;34m)\u001b[0m\u001b[0;34m\u001b[0m\u001b[0;34m\u001b[0m\u001b[0m\n\u001b[0m\u001b[1;32m      2\u001b[0m \u001b[0mpdfkit\u001b[0m\u001b[0;34m.\u001b[0m\u001b[0mfrom_file\u001b[0m\u001b[0;34m(\u001b[0m\u001b[0;34m(\u001b[0m\u001b[0;34m'/Users/jkocher/Documents/projects/DataEngineering.Labs.AirflowProject/data/genre'\u001b[0m\u001b[0;34m+\u001b[0m \u001b[0myear_name\u001b[0m \u001b[0;34m+\u001b[0m \u001b[0;34m'.html'\u001b[0m\u001b[0;34m)\u001b[0m\u001b[0;34m,\u001b[0m \u001b[0;34m(\u001b[0m\u001b[0;34m\"/Users/jkocher/Documents/projects/DataEngineering.Labs.AirflowProject/data/genre_\"\u001b[0m \u001b[0;34m+\u001b[0m \u001b[0myear_name\u001b[0m \u001b[0;34m+\u001b[0m\u001b[0;34m\".pdf\"\u001b[0m\u001b[0;34m)\u001b[0m\u001b[0;34m)\u001b[0m\u001b[0;34m\u001b[0m\u001b[0;34m\u001b[0m\u001b[0m\n\u001b[1;32m      3\u001b[0m \u001b[0;34m\u001b[0m\u001b[0m\n\u001b[1;32m      4\u001b[0m \u001b[0;34m\u001b[0m\u001b[0m\n\u001b[1;32m      5\u001b[0m \u001b[0;34m\u001b[0m\u001b[0m\n",
      "\u001b[0;31mNameError\u001b[0m: name 'genre_count' is not defined"
     ]
    }
   ],
   "source": [
    "genre_count.to_html('/Users/jkocher/Documents/airflow_home/data/'+ year_name + '/genre.html')\n",
    "pdfkit.from_file(('/Users/jkocher/Documents/airflow_home/data/'+ year_name + '/genre.html'), (\"/Users/jkocher/Documents/airflow_home/data/\" + year_name +\"/genre.pdf\"))\n",
    "\n",
    "\n",
    "\n",
    "\n"
   ]
  },
  {
   "cell_type": "code",
   "execution_count": null,
   "metadata": {},
   "outputs": [],
   "source": [
    "with PdfPages(\"/Users/jkocher/Documents/airflow_home/data/\"+year_name+\"/graphs.pdf\") as pdf:\n",
    "    merged_db.hist(column = \"spotify_track_duration_ms\" )\n",
    "    pdf.savefig()\n",
    "    plt.close()\n",
    "    \n",
    "    \n",
    "    merged_db.hist(column = \"loudness\")\n",
    "    pdf.savefig()\n",
    "    plt.close()\n",
    "    \n",
    "    merged_db.hist(column = \"danceability\")\n",
    "    pdf.savefig()\n",
    "    plt.close()\n",
    "    \n",
    "    merged_db.hist(column = \"energy\")\n",
    "    pdf.savefig()\n",
    "    plt.close()\n",
    "    \n",
    "    merged_db.hist(column = \"key\", bins = 12,ec='black')\n",
    "    pdf.savefig()\n",
    "    plt.close()\n",
    "    \n",
    "    merged_db.hist(column = \"acousticness\")\n",
    "    pdf.savefig()\n",
    "    plt.close()\n",
    "    \n",
    "    merged_db.hist(column = \"valence\")\n",
    "    pdf.savefig()\n",
    "    plt.close()\n",
    "    \n",
    "    merged_db.hist(column = \"tempo\")\n",
    "    pdf.savefig()\n",
    "    plt.close()"
   ]
  },
  {
   "cell_type": "code",
   "execution_count": null,
   "metadata": {},
   "outputs": [],
   "source": [
    "merged_db.describe()\n",
    "options = {\n",
    "    \"orientation\" : \"Landscape\"\n",
    "}\n",
    "merged_db.describe().to_html('/Users/jkocher/Documents/airflow_home/data/'+ year_name + '/variable.html')\n",
    "pdfkit.from_file(('/Users/jkocher/Documents/airflow_home/data/'+ year_name + '/variable.html'),(\"/Users/jkocher/Documents/airflow_home/data/\" + year_name +\"/variables.pdf\"),options)\n",
    "\n",
    "\n"
   ]
  },
  {
   "cell_type": "code",
   "execution_count": null,
   "metadata": {},
   "outputs": [],
   "source": [
    "duration_lower = merged_db[\"spotify_track_duration_ms\"].mean()-merged_db[\"spotify_track_duration_ms\"].std()*.75\n",
    "duration_upper = merged_db[\"spotify_track_duration_ms\"].mean()+merged_db[\"spotify_track_duration_ms\"].std()*.75\n",
    "loudness_lower = merged_db[\"loudness\"].mean()-merged_db[\"loudness\"].std()*.75\n",
    "loudness_upper = merged_db[\"loudness\"].mean()+merged_db[\"loudness\"].std()*.75\n",
    "danceability_lower = merged_db[\"danceability\"].mean()-merged_db[\"danceability\"].std()*.75\n",
    "danceability_upper = merged_db[\"danceability\"].mean()+merged_db[\"danceability\"].std()*.75\n",
    "energy_lower = merged_db[\"energy\"].mean()-merged_db[\"energy\"].std()*.75\n",
    "energy_upper = merged_db[\"energy\"].mean()+merged_db[\"energy\"].std()*.75\n",
    "acousticness_lower = merged_db[\"acousticness\"].mean()-merged_db[\"acousticness\"].std()*.75\n",
    "acousticness_upper = merged_db[\"acousticness\"].mean()+merged_db[\"acousticness\"].std()*.75\n",
    "valence_lower = merged_db[\"valence\"].mean()-merged_db[\"valence\"].std()*.75\n",
    "valence_upper = merged_db[\"valence\"].mean()+merged_db[\"valence\"].std()*.75\n",
    "tempo_lower = merged_db[\"tempo\"].mean()-merged_db[\"tempo\"].std()*.75\n",
    "tempo_upper = merged_db[\"tempo\"].mean()+merged_db[\"tempo\"].std()*.75\n",
    "top_5_keys = merged_db['key'].value_counts().head(5)\n",
    "top_5_keys_list = list(top_5_keys.index)"
   ]
  },
  {
   "cell_type": "code",
   "execution_count": null,
   "metadata": {},
   "outputs": [],
   "source": [
    "top_songs = merged_db[merged_db[\"key\"].isin(top_5_keys_list)]\n",
    "top_songs = top_songs[top_songs[\"week_position\"] <= 3]\n",
    "top_songs = top_songs[top_songs[\"spotify_track_duration_ms\"] > duration_lower]\n",
    "top_songs = top_songs[top_songs[\"spotify_track_duration_ms\"] < duration_upper]\n",
    "top_songs = top_songs[top_songs[\"loudness\"] > loudness_lower]\n",
    "top_songs = top_songs[top_songs[\"loudness\"] < loudness_upper]\n",
    "top_songs = top_songs[top_songs[\"danceability\"] > danceability_lower]\n",
    "top_songs = top_songs[top_songs[\"danceability\"] < danceability_upper]\n",
    "top_songs = top_songs[top_songs[\"energy\"] > energy_lower]\n",
    "top_songs = top_songs[top_songs[\"energy\"] < energy_upper]\n",
    "top_songs = top_songs[top_songs[\"acousticness\"] > acousticness_lower]\n",
    "top_songs = top_songs[top_songs[\"acousticness\"] < acousticness_upper]\n",
    "top_songs = top_songs[top_songs[\"valence\"] > valence_lower]\n",
    "top_songs = top_songs[top_songs[\"valence\"] < valence_upper]\n",
    "top_songs = top_songs[top_songs[\"tempo\"] > tempo_lower]\n",
    "top_songs = top_songs[top_songs[\"tempo\"] < tempo_upper]\n",
    "top_songs = top_songs[['song', 'performer','week_position']]"
   ]
  },
  {
   "cell_type": "code",
   "execution_count": 1,
   "metadata": {},
   "outputs": [
    {
     "ename": "NameError",
     "evalue": "name 'top_songs' is not defined",
     "output_type": "error",
     "traceback": [
      "\u001b[0;31m---------------------------------------------------------------------------\u001b[0m",
      "\u001b[0;31mNameError\u001b[0m                                 Traceback (most recent call last)",
      "\u001b[0;32m<ipython-input-1-c2508af61973>\u001b[0m in \u001b[0;36m<module>\u001b[0;34m\u001b[0m\n\u001b[1;32m      2\u001b[0m     \u001b[0;34m\"orientation\"\u001b[0m \u001b[0;34m:\u001b[0m \u001b[0;34m\"Landscape\"\u001b[0m\u001b[0;34m\u001b[0m\u001b[0;34m\u001b[0m\u001b[0m\n\u001b[1;32m      3\u001b[0m }\n\u001b[0;32m----> 4\u001b[0;31m \u001b[0mtop_songs\u001b[0m\u001b[0;34m.\u001b[0m\u001b[0mto_html\u001b[0m\u001b[0;34m(\u001b[0m\u001b[0;34m'/Users/jkocher/Documents/projects/DataEngineering.Labs.AirflowProject/data/top_songs_'\u001b[0m\u001b[0;34m+\u001b[0m \u001b[0myear_name\u001b[0m \u001b[0;34m+\u001b[0m \u001b[0;34m'.html'\u001b[0m\u001b[0;34m)\u001b[0m\u001b[0;34m\u001b[0m\u001b[0;34m\u001b[0m\u001b[0m\n\u001b[0m\u001b[1;32m      5\u001b[0m \u001b[0mpdfkit\u001b[0m\u001b[0;34m.\u001b[0m\u001b[0mfrom_file\u001b[0m\u001b[0;34m(\u001b[0m\u001b[0;34m(\u001b[0m\u001b[0;34m'/Users/jkocher/Documents/projects/DataEngineering.Labs.AirflowProject/data/top_songs_'\u001b[0m\u001b[0;34m+\u001b[0m \u001b[0myear_name\u001b[0m \u001b[0;34m+\u001b[0m \u001b[0;34m'.html'\u001b[0m\u001b[0;34m)\u001b[0m\u001b[0;34m,\u001b[0m\u001b[0;34m(\u001b[0m\u001b[0;34m\"/Users/jkocher/Documents/projects/DataEngineering.Labs.AirflowProject/data/top_songs_\"\u001b[0m \u001b[0;34m+\u001b[0m \u001b[0myear_name\u001b[0m \u001b[0;34m+\u001b[0m\u001b[0;34m\".pdf\"\u001b[0m\u001b[0;34m)\u001b[0m\u001b[0;34m,\u001b[0m\u001b[0moptions\u001b[0m\u001b[0;34m)\u001b[0m\u001b[0;34m\u001b[0m\u001b[0;34m\u001b[0m\u001b[0m\n\u001b[1;32m      6\u001b[0m \u001b[0;34m\u001b[0m\u001b[0m\n",
      "\u001b[0;31mNameError\u001b[0m: name 'top_songs' is not defined"
     ]
    }
   ],
   "source": [
    "options = {\n",
    "    \"orientation\" : \"Landscape\"\n",
    "}\n",
    "top_songs.to_html('/Users/jkocher/Documents/airflow_home/data/'+ year_name + '/top_songs.html')\n",
    "pdfkit.from_file(('/Users/jkocher/Documents/airflow_home/data/'+ year_name + '/top_songs.html'),(\"/Users/jkocher/Documents/airflow_home/data/\" + year_name +\"/top_songs.pdf\"),options)\n",
    "\n",
    "\n",
    "\n",
    "\n",
    "\n",
    "\n",
    "\n"
   ]
  },
  {
   "cell_type": "code",
   "execution_count": null,
   "metadata": {},
   "outputs": [],
   "source": [
    "os.remove('/Users/jkocher/Documents/airflow_home/data/'+ year_name + '/genre.html')\n",
    "os.remove('/Users/jkocher/Documents/airflow_home/data/'+ year_name + '/variable.html')\n",
    "os.remove('/Users/jkocher/Documents/airflow_home/data/'+ year_name + '/top_songs.html')"
   ]
  }
 ],
 "metadata": {
  "celltoolbar": "Tags",
  "kernelspec": {
   "display_name": "Python 3",
   "language": "python",
   "name": "python3"
  },
  "language_info": {
   "codemirror_mode": {
    "name": "ipython",
    "version": 3
   },
   "file_extension": ".py",
   "mimetype": "text/x-python",
   "name": "python",
   "nbconvert_exporter": "python",
   "pygments_lexer": "ipython3",
   "version": "3.7.7"
  }
 },
 "nbformat": 4,
 "nbformat_minor": 2
}
